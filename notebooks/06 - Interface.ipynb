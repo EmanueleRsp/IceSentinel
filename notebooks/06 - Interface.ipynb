{
 "cells": [
  {
   "cell_type": "markdown",
   "id": "94bbbf1f",
   "metadata": {},
   "source": [
    "# **Interface**"
   ]
  },
  {
   "cell_type": "markdown",
   "id": "1dd1932c",
   "metadata": {},
   "source": [
    "Before starting the interface, please install the required libraries:"
   ]
  },
  {
   "cell_type": "code",
   "execution_count": null,
   "id": "1f10312c",
   "metadata": {},
   "outputs": [],
   "source": [
    "%pip install -q -r ../requirements.txt"
   ]
  },
  {
   "cell_type": "markdown",
   "id": "ef1f9d0b",
   "metadata": {},
   "source": [
    "Once the libraries are installed:\n",
    " 1. Open a terminal and navigate to the project directory.\n",
    " 2. Run the following command to start the Streamlit interface:\n",
    "\n",
    "```bash\n",
    "streamlit run ./interface/avalanche_app.py\n",
    "```\n"
   ]
  }
 ],
 "metadata": {
  "kernelspec": {
   "display_name": ".venv",
   "language": "python",
   "name": "python3"
  },
  "language_info": {
   "codemirror_mode": {
    "name": "ipython",
    "version": 3
   },
   "file_extension": ".py",
   "mimetype": "text/x-python",
   "name": "python",
   "nbconvert_exporter": "python",
   "pygments_lexer": "ipython3",
   "version": "3.12.4"
  }
 },
 "nbformat": 4,
 "nbformat_minor": 5
}
